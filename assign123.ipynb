{
 "cells": [
  {
   "cell_type": "code",
   "execution_count": 2,
   "id": "b7d24332-c88f-4a06-97ef-b677a141df5d",
   "metadata": {},
   "outputs": [
    {
     "data": {
      "text/plain": [
       "\"data=open()\\n\\n'r'       open for reading (default)\\n'w'       open for writing, truncating the file first\\n'x'       create a new file and open it for writing\\n'a'       open for writing, appending to the end of the file if it exists\\n'b'       binary mode\\n't'       text mode (default)\\n'+'       open a disk file for updating (reading and writing)\\n'U'       universal newline mode (deprecated)\""
      ]
     },
     "execution_count": 2,
     "metadata": {},
     "output_type": "execute_result"
    }
   ],
   "source": [
    "#Q1. Which function is used to open a file? What are the different modes of opening a file? Explain each modeof file opening.\n",
    "\n",
    "\n",
    "\n",
    "#the function used to open the file is open()\n",
    "'''data=open()\n",
    "\n",
    "'r'       open for reading (default)\n",
    "'w'       open for writing, truncating the file first\n",
    "'x'       create a new file and open it for writing\n",
    "'a'       open for writing, appending to the end of the file if it exists\n",
    "'b'       binary mode\n",
    "'t'       text mode (default)\n",
    "'+'       open a disk file for updating (reading and writing)\n",
    "'U'       universal newline mode (deprecated)'''"
   ]
  },
  {
   "cell_type": "code",
   "execution_count": 3,
   "id": "88a512a6-59de-422b-a927-24087b0c875e",
   "metadata": {},
   "outputs": [
    {
     "data": {
      "text/plain": [
       "'close() is used to close the file once created in programme.\\nif not closed it occupies memeory .., to keepa data inside the file safe'"
      ]
     },
     "execution_count": 3,
     "metadata": {},
     "output_type": "execute_result"
    }
   ],
   "source": [
    "#Q2. Why close() function is used? Why is it important to close a file?\n",
    "\n",
    "'''close() is used to close the file once created in programme.\n",
    "if not closed it occupies memeory .., to keepa data inside the file safe'''"
   ]
  },
  {
   "cell_type": "code",
   "execution_count": 31,
   "id": "fdfeff80-df93-4431-8998-a01a1ac82572",
   "metadata": {},
   "outputs": [],
   "source": [
    "#Q3. Write a python program to create a text file. Write ‘I want to become a Data Scientist’ in that file. Then\n",
    "#close the file. Open this file and read the content of the file.\n",
    "\n",
    "\n",
    "\n",
    "ani=open(\"test.txt1\",\"a\")"
   ]
  },
  {
   "cell_type": "code",
   "execution_count": 32,
   "id": "77a4fdf1-0a3d-468b-884b-7df977459232",
   "metadata": {},
   "outputs": [],
   "source": [
    "ani.writelines(\"‘I want to become a Data Scientist’\")"
   ]
  },
  {
   "cell_type": "code",
   "execution_count": 27,
   "id": "f5114e73-be7f-40e2-8126-6591d5e34efd",
   "metadata": {},
   "outputs": [],
   "source": [
    "ani.close()"
   ]
  },
  {
   "cell_type": "code",
   "execution_count": 28,
   "id": "c300be8f-36ad-4abf-b657-e2d0b8515147",
   "metadata": {},
   "outputs": [],
   "source": [
    "ani=open(\"test.txt1\",\"r\")"
   ]
  },
  {
   "cell_type": "code",
   "execution_count": 29,
   "id": "377f7f86-0dac-4763-8f3e-e1cba03dc271",
   "metadata": {},
   "outputs": [
    {
     "data": {
      "text/plain": [
       "'‘I want to become a Data Scientist’‘I want to become a Data Scientist’‘I want to become a Data Scien'"
      ]
     },
     "execution_count": 29,
     "metadata": {},
     "output_type": "execute_result"
    }
   ],
   "source": [
    "ani.read(100)"
   ]
  },
  {
   "cell_type": "code",
   "execution_count": null,
   "id": "8741ca5c-d89e-4bc1-8509-911f9028a148",
   "metadata": {},
   "outputs": [],
   "source": [
    "#Q4. Explain the following with python code: read(), readline() and readlines().\n",
    "\n",
    "read() takes a number as arguement and reads all character till that bit as string\n",
    "readline() reads a single line\n",
    "readlines() reads all lines ."
   ]
  },
  {
   "cell_type": "code",
   "execution_count": null,
   "id": "f6772554-4d02-491e-9bf7-521757b6f8d7",
   "metadata": {},
   "outputs": [],
   "source": [
    "#Q5. Explain why with statement is used with open(). What is the advantage of using with statement andopen() together?"
   ]
  },
  {
   "cell_type": "code",
   "execution_count": null,
   "id": "ed3f0a24-d9d6-4e30-a684-703b7b0d95b3",
   "metadata": {},
   "outputs": [],
   "source": [
    "'''with statement is used with open to make shure ithe file opend can also be closed.This wil  improve the reliability and stability  of programme'''"
   ]
  },
  {
   "cell_type": "code",
   "execution_count": null,
   "id": "7cb73d7f-b57d-4c5c-a6d9-79c294a083f8",
   "metadata": {},
   "outputs": [],
   "source": [
    "#Q6. Explain the write() and writelines() functions. Give a suitable example."
   ]
  },
  {
   "cell_type": "code",
   "execution_count": null,
   "id": "de93d63a-17ba-476c-b22e-5fb00519be19",
   "metadata": {},
   "outputs": [],
   "source": [
    "'''write() takes an arguement as group of strings and writes as single string\n",
    "writelines() takes arguement as list of strings and prints in lines'''"
   ]
  }
 ],
 "metadata": {
  "kernelspec": {
   "display_name": "Python 3 (ipykernel)",
   "language": "python",
   "name": "python3"
  },
  "language_info": {
   "codemirror_mode": {
    "name": "ipython",
    "version": 3
   },
   "file_extension": ".py",
   "mimetype": "text/x-python",
   "name": "python",
   "nbconvert_exporter": "python",
   "pygments_lexer": "ipython3",
   "version": "3.10.8"
  }
 },
 "nbformat": 4,
 "nbformat_minor": 5
}
